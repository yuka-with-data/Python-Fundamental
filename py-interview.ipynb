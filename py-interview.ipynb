{
 "cells": [
  {
   "attachments": {},
   "cell_type": "markdown",
   "metadata": {},
   "source": [
    "## Py Interview Questions"
   ]
  },
  {
   "attachments": {},
   "cell_type": "markdown",
   "metadata": {},
   "source": [
    "### Some Useful Resources"
   ]
  },
  {
   "attachments": {},
   "cell_type": "markdown",
   "metadata": {},
   "source": [
    "https://codingbootcamps.io/resources/python-technical-interview-questions/\n",
    "\n",
    "https://btechgeeks.com/python-interview-questions-on-decision-making-and-loops/\n",
    "\n",
    "https://www.edureka.co/blog/interview-questions/python-interview-questions/#basicprograms"
   ]
  },
  {
   "attachments": {},
   "cell_type": "markdown",
   "metadata": {},
   "source": [
    "1. Write a program in Python to print the following pattern:\n",
    "\n",
    "@ <br />\n",
    "@@ <br />\n",
    "@@@ <br />\n",
    "@@@@ <br />\n",
    "@@@@@ <br />"
   ]
  },
  {
   "cell_type": "code",
   "execution_count": 3,
   "metadata": {},
   "outputs": [
    {
     "name": "stdout",
     "output_type": "stream",
     "text": [
      "\n",
      "@\n",
      "@@\n",
      "@@@\n",
      "@@@@\n",
      "@@@@@\n"
     ]
    }
   ],
   "source": [
    "for i in range(0,6):\n",
    "    print(\"@\"*i)"
   ]
  },
  {
   "attachments": {},
   "cell_type": "markdown",
   "metadata": {},
   "source": [
    "2. Write a program in Python to print the following pattern: <br />\n",
    "\n",
    "1 <br />\n",
    "2 3 <br />\n",
    "4 5 6 <br />\n",
    "7 8 9 10 <br />\n",
    "11 12 13 14 15 "
   ]
  },
  {
   "cell_type": "code",
   "execution_count": 3,
   "metadata": {},
   "outputs": [],
   "source": [
    "n = int(input(\"what's row num\"))\n",
    "num = 1\n",
    "for i in range(0, n): # outer loop for generating rows\n",
    "    for j in range(1, i + 1):\n",
    "        print(num, end = \"\")\n",
    "        num += 1\n",
    "    print(\"\")\n"
   ]
  },
  {
   "attachments": {},
   "cell_type": "markdown",
   "metadata": {},
   "source": [
    "3. Write code to produce the following pattern: <br />\n",
    "\n",
    "1 <br />\n",
    "22 <br />\n",
    "333 <br />\n",
    "4444"
   ]
  },
  {
   "cell_type": "code",
   "execution_count": null,
   "metadata": {},
   "outputs": [
    {
     "name": "stdout",
     "output_type": "stream",
     "text": [
      "\n",
      "1\n",
      "22\n",
      "333\n",
      "4444\n",
      "55555\n"
     ]
    }
   ],
   "source": [
    "row = int(input(\"what's row\"))\n",
    "while row > 0:\n",
    "    for i in range(row + 1):\n",
    "        print(str(i)*i)"
   ]
  },
  {
   "cell_type": "code",
   "execution_count": null,
   "metadata": {},
   "outputs": [],
   "source": [
    "[str(i)*i for i in range(row+1)].join('\\n')"
   ]
  },
  {
   "cell_type": "code",
   "execution_count": null,
   "metadata": {},
   "outputs": [
    {
     "name": "stdout",
     "output_type": "stream",
     "text": [
      "\n",
      "1\n",
      "22\n",
      "333\n",
      "4444\n",
      "55555\n"
     ]
    }
   ],
   "source": [
    "print('\\n'.join([str(i)*i for i in range(row+1)]))"
   ]
  },
  {
   "attachments": {},
   "cell_type": "markdown",
   "metadata": {},
   "source": [
    "4. Write a code to generate the following pattern: <br />\n",
    " \n",
    "1 <br />\n",
    "12 <br />\n",
    "123 <br />\n",
    "1234 "
   ]
  },
  {
   "cell_type": "code",
   "execution_count": null,
   "metadata": {},
   "outputs": [
    {
     "name": "stdout",
     "output_type": "stream",
     "text": [
      "1\n",
      "12\n",
      "123\n",
      "1234\n",
      "12345\n"
     ]
    }
   ],
   "source": [
    "row = 5\n",
    "for i in range(1, row + 1, 1): # outer loop for row\n",
    "    for j in range(1, i + 1): # inner loop for printing int\n",
    "        print(j, end = \"\")\n",
    "    print(\"\") # line changer"
   ]
  },
  {
   "cell_type": "code",
   "execution_count": null,
   "metadata": {},
   "outputs": [
    {
     "name": "stdout",
     "output_type": "stream",
     "text": [
      "12345\n",
      "1234\n",
      "123\n",
      "12\n",
      "1\n"
     ]
    }
   ],
   "source": [
    "# reverse\n",
    "row = 5\n",
    "for i in range(row, 0, -1):\n",
    "    for j in range(1, i + 1):\n",
    "        print(j, end = \"\")\n",
    "    print(\"\")\n"
   ]
  },
  {
   "attachments": {},
   "cell_type": "markdown",
   "metadata": {},
   "source": [
    "5. Write code to spell a word entered by the user."
   ]
  },
  {
   "cell_type": "code",
   "execution_count": 9,
   "metadata": {},
   "outputs": [
    {
     "name": "stdout",
     "output_type": "stream",
     "text": [
      "i\n",
      " \n",
      "l\n",
      "o\n",
      "v\n",
      "e\n",
      " \n",
      "p\n",
      "y\n",
      "t\n",
      "h\n",
      "o\n",
      "n\n"
     ]
    }
   ],
   "source": [
    "word = input(\"what's word\")\n",
    "for i in word:\n",
    "    print(i)"
   ]
  },
  {
   "cell_type": "code",
   "execution_count": null,
   "metadata": {},
   "outputs": [
    {
     "data": {
      "text/plain": [
       "['p', 'y', 't', 'h', 'o', 'n']"
      ]
     },
     "execution_count": 29,
     "metadata": {},
     "output_type": "execute_result"
    }
   ],
   "source": [
    "word = input(\"what's word\")\n",
    "[char for char in word]"
   ]
  },
  {
   "attachments": {},
   "cell_type": "markdown",
   "metadata": {},
   "source": [
    "6. What will be the output of the following code?"
   ]
  },
  {
   "cell_type": "code",
   "execution_count": null,
   "metadata": {},
   "outputs": [
    {
     "name": "stdout",
     "output_type": "stream",
     "text": [
      "5\n"
     ]
    }
   ],
   "source": [
    "a = 0\n",
    "for i in range(5):\n",
    "    a = a+1\n",
    "    continue\n",
    "\n",
    "print(a)"
   ]
  },
  {
   "attachments": {},
   "cell_type": "markdown",
   "metadata": {},
   "source": [
    "7. Use if statement to check whether a integer is even"
   ]
  },
  {
   "cell_type": "code",
   "execution_count": null,
   "metadata": {},
   "outputs": [
    {
     "name": "stdout",
     "output_type": "stream",
     "text": [
      "Even number:  166\n"
     ]
    }
   ],
   "source": [
    "num = int(input(\"whats num\"))\n",
    "if num % 2 == 0:\n",
    "    print(\"Even number: \", num)\n",
    "else:\n",
    "    print(\"Odd\")"
   ]
  },
  {
   "attachments": {},
   "cell_type": "markdown",
   "metadata": {},
   "source": [
    "8. Use if statement to check whether a integer is odd"
   ]
  },
  {
   "cell_type": "code",
   "execution_count": null,
   "metadata": {},
   "outputs": [],
   "source": [
    "num = int(input(\"whats num\"))\n",
    "if num % 2 != 0:\n",
    "    print(\"Odd num: \", num)\n",
    "else:\n",
    "    print(\"Even\")"
   ]
  },
  {
   "attachments": {},
   "cell_type": "markdown",
   "metadata": {},
   "source": [
    "9. How can the following piece of code be expressed in one single line?"
   ]
  },
  {
   "cell_type": "code",
   "execution_count": null,
   "metadata": {},
   "outputs": [
    {
     "name": "stdout",
     "output_type": "stream",
     "text": [
      "both i and j are equal\n"
     ]
    }
   ],
   "source": [
    "i = j = 10\n",
    "if i > j:\n",
    "    print(\"i is greater than j\")\n",
    "elif i < j:\n",
    "    print(\"i is less than j\")\n",
    "else:\n",
    "    print(\"both i and j are equal\")"
   ]
  },
  {
   "cell_type": "markdown",
   "metadata": {},
   "source": [
    "10. What will be the output for the following code"
   ]
  },
  {
   "cell_type": "code",
   "execution_count": null,
   "metadata": {},
   "outputs": [],
   "source": [
    "a = 0\n",
    "b = 9\n",
    "i = [True, False][a > b]\n",
    "print(i)\n"
   ]
  },
  {
   "attachments": {},
   "cell_type": "markdown",
   "metadata": {},
   "source": [
    "Note: The break statement stops the execution of the current loop, and transfers control to the next block. The continue statement ends the current block’s execution and jumps to the next iteration of the loop."
   ]
  },
  {
   "attachments": {},
   "cell_type": "markdown",
   "metadata": {},
   "source": [
    "11. Find the common elements of following sets"
   ]
  },
  {
   "cell_type": "code",
   "execution_count": null,
   "metadata": {},
   "outputs": [
    {
     "name": "stdout",
     "output_type": "stream",
     "text": [
      "[1, 3, 5, 7]\n"
     ]
    }
   ],
   "source": [
    "s1={1,2,3,5,7}\n",
    "s2={1,3,5,7,9}\n",
    "\n",
    "def common(s1,s2):\n",
    "    s3 = [value for value in s1 if value in s2] # ternary operator\n",
    "    return s3\n",
    "\n",
    "d = common(s1,s2)\n",
    "print(d)"
   ]
  },
  {
   "cell_type": "code",
   "execution_count": null,
   "metadata": {},
   "outputs": [],
   "source": [
    "List1=[22, 32, 42, 52, 62, 72, 82]\n",
    "\n",
    "List2=[30, 32, 34, 36, 38, 40, 42, 44, 46, 48]\n",
    "\n",
    "List3=[24, 32, 40, 48, 56, 64, 72, 80]"
   ]
  },
  {
   "attachments": {},
   "cell_type": "markdown",
   "metadata": {},
   "source": [
    "12. Christmas Tree Pattern"
   ]
  },
  {
   "cell_type": "code",
   "execution_count": 1,
   "metadata": {},
   "outputs": [
    {
     "name": "stdout",
     "output_type": "stream",
     "text": [
      "         *\n",
      "        ***\n",
      "       *****\n",
      "      *******\n",
      "     *********\n",
      "    ***********\n",
      "   *************\n",
      "  ***************\n",
      " *****************\n",
      "*******************\n"
     ]
    }
   ],
   "source": [
    "def tree(r):\n",
    "    for i in range(r):\n",
    "        print(' '*(r-i-1)+'*'*(2*i+1))\n",
    "tree(10)"
   ]
  },
  {
   "cell_type": "code",
   "execution_count": 2,
   "metadata": {},
   "outputs": [
    {
     "name": "stdout",
     "output_type": "stream",
     "text": [
      "~~~~~~~~~*~~~~~~~~~\n",
      "~~~~~~~~***~~~~~~~~\n",
      "~~~~~~~*****~~~~~~~\n",
      "~~~~~~*******~~~~~~\n",
      "~~~~~*********~~~~~\n",
      "~~~~***********~~~~\n",
      "~~~*************~~~\n",
      "~~***************~~\n",
      "~*****************~\n",
      "*******************\n"
     ]
    }
   ],
   "source": [
    "def tree(r):\n",
    "    for i in range(r):\n",
    "        print('~'*(r-i-1)+'*'*(2*i+1)+'~'*(r-i-1))\n",
    "tree(10)"
   ]
  },
  {
   "attachments": {},
   "cell_type": "markdown",
   "metadata": {},
   "source": [
    "13. Construct Bubble Sort Algorithm"
   ]
  },
  {
   "cell_type": "code",
   "execution_count": 6,
   "metadata": {},
   "outputs": [
    {
     "name": "stdout",
     "output_type": "stream",
     "text": [
      "[3, 6, 7, 14, 17, 25]\n"
     ]
    }
   ],
   "source": [
    "a=[25,17,7,14,6,3]\n",
    "\n",
    "def bf(a):\n",
    "    for i in range(len(a)):\n",
    "        for j in range(0,len(a)-i-1):\n",
    "            if a[j] > a[j+1]:\n",
    "                temp = a[j]\n",
    "                a[j] = a[j+1]\n",
    "                a[j+1] = temp\n",
    "bf(a)\n",
    "print(a)"
   ]
  },
  {
   "attachments": {},
   "cell_type": "markdown",
   "metadata": {},
   "source": [
    "14. Build a function to print out Prime Numbers"
   ]
  },
  {
   "cell_type": "code",
   "execution_count": null,
   "metadata": {},
   "outputs": [],
   "source": [
    "# prime\n",
    "num = int(input(\"number\"))\n",
    "for i in range(2, num):\n",
    "    if(num%i) == 0:\n",
    "        break\n",
    "    else:\n",
    "        print(num)"
   ]
  },
  {
   "attachments": {},
   "cell_type": "markdown",
   "metadata": {},
   "source": [
    "15. Randomize the items of the list"
   ]
  },
  {
   "cell_type": "code",
   "execution_count": 2,
   "metadata": {},
   "outputs": [],
   "source": [
    "from random import shuffle"
   ]
  },
  {
   "cell_type": "code",
   "execution_count": 20,
   "metadata": {},
   "outputs": [
    {
     "name": "stdout",
     "output_type": "stream",
     "text": [
      "['says', 'holidays', 'yuka with data', 'happy']\n"
     ]
    }
   ],
   "source": [
    "x = ['happy','holidays','says','yuka with data']\n",
    "shuffle(x)\n",
    "print(x)"
   ]
  },
  {
   "cell_type": "code",
   "execution_count": 21,
   "metadata": {},
   "outputs": [
    {
     "name": "stdout",
     "output_type": "stream",
     "text": [
      "Kuya\n"
     ]
    }
   ],
   "source": [
    "y = \"Yuka\"\n",
    "k = y[2].upper() + y[1] + y[0].lower() + y[3]\n",
    "print(k)"
   ]
  },
  {
   "attachments": {},
   "cell_type": "markdown",
   "metadata": {},
   "source": [
    "16. Convert the following code into a list comprehension."
   ]
  },
  {
   "cell_type": "code",
   "execution_count": 5,
   "metadata": {},
   "outputs": [
    {
     "name": "stdout",
     "output_type": "stream",
     "text": [
      "['apple', 'banana', 'mango']\n"
     ]
    }
   ],
   "source": [
    "fruits = [\"apple\", \"banana\", \"cherry\", \"kiwi\", \"mango\"]\n",
    "newlist = []\n",
    "\n",
    "for x in fruits:\n",
    "  if \"a\" in x:\n",
    "    newlist.append(x)\n",
    "\n",
    "print(newlist)"
   ]
  },
  {
   "cell_type": "code",
   "execution_count": 6,
   "metadata": {},
   "outputs": [
    {
     "name": "stdout",
     "output_type": "stream",
     "text": [
      "['apple', 'banana', 'mango']\n"
     ]
    }
   ],
   "source": [
    "# list comprehension\n",
    "fruits = [\"apple\", \"banana\", \"cherry\", \"kiwi\", \"mango\"]\n",
    "newlist = [x for x in fruits if \"a\" in x]\n",
    "print(newlist)"
   ]
  },
  {
   "attachments": {},
   "cell_type": "markdown",
   "metadata": {},
   "source": [
    "17. What is a lambda function?"
   ]
  },
  {
   "attachments": {},
   "cell_type": "markdown",
   "metadata": {},
   "source": [
    "A. An anonymous function is known as a lambda function. This function can have any number of parameters but can have just one statement. "
   ]
  },
  {
   "cell_type": "code",
   "execution_count": 8,
   "metadata": {},
   "outputs": [
    {
     "name": "stdout",
     "output_type": "stream",
     "text": [
      "11\n"
     ]
    }
   ],
   "source": [
    "# example\n",
    "a = lambda x,y : x+y\n",
    "print(a(5,6))"
   ]
  },
  {
   "attachments": {},
   "cell_type": "markdown",
   "metadata": {},
   "source": [
    "18. What is self in Python?"
   ]
  },
  {
   "attachments": {},
   "cell_type": "markdown",
   "metadata": {},
   "source": [
    "A. Self is an instance or an object of a class. This is explicitly included as the first parameter. It helps to differenciate between the methods and attributes of a class with local variables. "
   ]
  },
  {
   "attachments": {},
   "cell_type": "markdown",
   "metadata": {},
   "source": [
    "19. What is Break, Continue and Pass?"
   ]
  },
  {
   "attachments": {},
   "cell_type": "markdown",
   "metadata": {},
   "source": [
    "**Break**: Allows loop termination when some condition is met and the control is transferred to the next statement. \n",
    "\n",
    "**Continue**: Allows skipping some part of a loop when some specific condition is met and the control is transferred to the beginning of the loop. \n",
    "\n",
    "**Pass**: Used when you need some block of cide syntactically, but you want to skip its execution. This is basically a null operation. Nation happens when this is executed. "
   ]
  },
  {
   "cell_type": "code",
   "execution_count": 13,
   "metadata": {},
   "outputs": [
    {
     "name": "stdout",
     "output_type": "stream",
     "text": [
      "{'Country': 'India', 'Capital': 'Delhi', 'PM': 'Modi'}\n"
     ]
    }
   ],
   "source": [
    "dict={'Country':'India','Capital':'Delhi','PM':'Modi'}\n",
    "print(dict)"
   ]
  },
  {
   "cell_type": "code",
   "execution_count": null,
   "metadata": {},
   "outputs": [],
   "source": []
  }
 ],
 "metadata": {
  "kernelspec": {
   "display_name": ".venv",
   "language": "python",
   "name": "python3"
  },
  "language_info": {
   "codemirror_mode": {
    "name": "ipython",
    "version": 3
   },
   "file_extension": ".py",
   "mimetype": "text/x-python",
   "name": "python",
   "nbconvert_exporter": "python",
   "pygments_lexer": "ipython3",
   "version": "3.11.0"
  },
  "orig_nbformat": 4,
  "vscode": {
   "interpreter": {
    "hash": "f4a249af46e0b6e68e0d5146a08cc608d96fbcc2de034278eb27f793730430da"
   }
  }
 },
 "nbformat": 4,
 "nbformat_minor": 2
}
